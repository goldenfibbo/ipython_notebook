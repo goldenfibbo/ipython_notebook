{
 "cells": [
  {
   "cell_type": "code",
   "execution_count": 1,
   "metadata": {},
   "outputs": [],
   "source": [
    "import numpy as np\n",
    "import re\n",
    "import matplotlib.pyplot as plt\n",
    "import pandas as pd\n",
    "import os"
   ]
  },
  {
   "cell_type": "markdown",
   "metadata": {},
   "source": [
    "# plot the scattering phase space"
   ]
  },
  {
   "cell_type": "code",
   "execution_count": 3,
   "metadata": {},
   "outputs": [],
   "source": [
    "df = pd.read_csv(\"graphene.sps\",sep=\"\\s+\")"
   ]
  },
  {
   "cell_type": "code",
   "execution_count": 4,
   "metadata": {},
   "outputs": [],
   "source": [
    "df = df.set_index(\"k\")"
   ]
  },
  {
   "cell_type": "code",
   "execution_count": 5,
   "metadata": {},
   "outputs": [],
   "source": [
    "a = np.array(df[\"P+\"])\n",
    "b = np.array(df[\"P-\"])"
   ]
  },
  {
   "cell_type": "code",
   "execution_count": 13,
   "metadata": {},
   "outputs": [],
   "source": [
    "df[\"P3\"] = (2*a+b)*301**2"
   ]
  },
  {
   "cell_type": "code",
   "execution_count": 14,
   "metadata": {},
   "outputs": [],
   "source": [
    "df1 = df[df[\"mode\"]==1]\n",
    "df2 = df[df[\"mode\"]==2]\n",
    "df3 = df[df[\"mode\"]==3]"
   ]
  },
  {
   "cell_type": "code",
   "execution_count": 15,
   "metadata": {},
   "outputs": [
    {
     "data": {
      "text/html": [
       "<div>\n",
       "<style scoped>\n",
       "    .dataframe tbody tr th:only-of-type {\n",
       "        vertical-align: middle;\n",
       "    }\n",
       "\n",
       "    .dataframe tbody tr th {\n",
       "        vertical-align: top;\n",
       "    }\n",
       "\n",
       "    .dataframe thead th {\n",
       "        text-align: right;\n",
       "    }\n",
       "</style>\n",
       "<table border=\"1\" class=\"dataframe\">\n",
       "  <thead>\n",
       "    <tr style=\"text-align: right;\">\n",
       "      <th></th>\n",
       "      <th>mode</th>\n",
       "      <th>omega</th>\n",
       "      <th>P+</th>\n",
       "      <th>P-</th>\n",
       "      <th>P3</th>\n",
       "    </tr>\n",
       "    <tr>\n",
       "      <th>k</th>\n",
       "      <th></th>\n",
       "      <th></th>\n",
       "      <th></th>\n",
       "      <th></th>\n",
       "      <th></th>\n",
       "    </tr>\n",
       "  </thead>\n",
       "  <tbody>\n",
       "    <tr>\n",
       "      <th>1</th>\n",
       "      <td>1</td>\n",
       "      <td>1.097373e-10</td>\n",
       "      <td>4.673697e-16</td>\n",
       "      <td>0.000000</td>\n",
       "      <td>8.468832e-11</td>\n",
       "    </tr>\n",
       "    <tr>\n",
       "      <th>2</th>\n",
       "      <td>1</td>\n",
       "      <td>5.922105e-01</td>\n",
       "      <td>8.484970e-01</td>\n",
       "      <td>0.000000</td>\n",
       "      <td>1.537494e+05</td>\n",
       "    </tr>\n",
       "    <tr>\n",
       "      <th>3</th>\n",
       "      <td>1</td>\n",
       "      <td>1.187386e+00</td>\n",
       "      <td>4.265669e-01</td>\n",
       "      <td>0.000073</td>\n",
       "      <td>7.730142e+04</td>\n",
       "    </tr>\n",
       "    <tr>\n",
       "      <th>4</th>\n",
       "      <td>1</td>\n",
       "      <td>1.788474e+00</td>\n",
       "      <td>2.889011e-01</td>\n",
       "      <td>0.000161</td>\n",
       "      <td>5.236404e+04</td>\n",
       "    </tr>\n",
       "    <tr>\n",
       "      <th>5</th>\n",
       "      <td>1</td>\n",
       "      <td>2.398386e+00</td>\n",
       "      <td>2.185257e-01</td>\n",
       "      <td>0.000283</td>\n",
       "      <td>3.962295e+04</td>\n",
       "    </tr>\n",
       "    <tr>\n",
       "      <th>...</th>\n",
       "      <td>...</td>\n",
       "      <td>...</td>\n",
       "      <td>...</td>\n",
       "      <td>...</td>\n",
       "      <td>...</td>\n",
       "    </tr>\n",
       "    <tr>\n",
       "      <th>7697</th>\n",
       "      <td>1</td>\n",
       "      <td>5.263416e+02</td>\n",
       "      <td>1.304816e-02</td>\n",
       "      <td>0.002873</td>\n",
       "      <td>2.624651e+03</td>\n",
       "    </tr>\n",
       "    <tr>\n",
       "      <th>7698</th>\n",
       "      <td>1</td>\n",
       "      <td>5.255309e+02</td>\n",
       "      <td>1.303710e-02</td>\n",
       "      <td>0.002930</td>\n",
       "      <td>2.627771e+03</td>\n",
       "    </tr>\n",
       "    <tr>\n",
       "      <th>7699</th>\n",
       "      <td>1</td>\n",
       "      <td>5.276881e+02</td>\n",
       "      <td>1.303611e-02</td>\n",
       "      <td>0.002766</td>\n",
       "      <td>2.612772e+03</td>\n",
       "    </tr>\n",
       "    <tr>\n",
       "      <th>7700</th>\n",
       "      <td>1</td>\n",
       "      <td>5.287347e+02</td>\n",
       "      <td>1.305546e-02</td>\n",
       "      <td>0.002688</td>\n",
       "      <td>2.609204e+03</td>\n",
       "    </tr>\n",
       "    <tr>\n",
       "      <th>7701</th>\n",
       "      <td>1</td>\n",
       "      <td>5.302162e+02</td>\n",
       "      <td>1.303346e-02</td>\n",
       "      <td>0.002612</td>\n",
       "      <td>2.598315e+03</td>\n",
       "    </tr>\n",
       "  </tbody>\n",
       "</table>\n",
       "<p>7701 rows × 5 columns</p>\n",
       "</div>"
      ],
      "text/plain": [
       "      mode         omega            P+        P-            P3\n",
       "k                                                             \n",
       "1        1  1.097373e-10  4.673697e-16  0.000000  8.468832e-11\n",
       "2        1  5.922105e-01  8.484970e-01  0.000000  1.537494e+05\n",
       "3        1  1.187386e+00  4.265669e-01  0.000073  7.730142e+04\n",
       "4        1  1.788474e+00  2.889011e-01  0.000161  5.236404e+04\n",
       "5        1  2.398386e+00  2.185257e-01  0.000283  3.962295e+04\n",
       "...    ...           ...           ...       ...           ...\n",
       "7697     1  5.263416e+02  1.304816e-02  0.002873  2.624651e+03\n",
       "7698     1  5.255309e+02  1.303710e-02  0.002930  2.627771e+03\n",
       "7699     1  5.276881e+02  1.303611e-02  0.002766  2.612772e+03\n",
       "7700     1  5.287347e+02  1.305546e-02  0.002688  2.609204e+03\n",
       "7701     1  5.302162e+02  1.303346e-02  0.002612  2.598315e+03\n",
       "\n",
       "[7701 rows x 5 columns]"
      ]
     },
     "execution_count": 15,
     "metadata": {},
     "output_type": "execute_result"
    }
   ],
   "source": [
    "df1"
   ]
  },
  {
   "cell_type": "code",
   "execution_count": null,
   "metadata": {},
   "outputs": [],
   "source": []
  },
  {
   "cell_type": "code",
   "execution_count": null,
   "metadata": {},
   "outputs": [],
   "source": []
  },
  {
   "cell_type": "code",
   "execution_count": null,
   "metadata": {},
   "outputs": [],
   "source": []
  },
  {
   "cell_type": "code",
   "execution_count": null,
   "metadata": {},
   "outputs": [],
   "source": []
  },
  {
   "cell_type": "code",
   "execution_count": null,
   "metadata": {},
   "outputs": [],
   "source": []
  }
 ],
 "metadata": {
  "kernelspec": {
   "display_name": "Python 3",
   "language": "python",
   "name": "python3"
  },
  "language_info": {
   "codemirror_mode": {
    "name": "ipython",
    "version": 3
   },
   "file_extension": ".py",
   "mimetype": "text/x-python",
   "name": "python",
   "nbconvert_exporter": "python",
   "pygments_lexer": "ipython3",
   "version": "3.9.0"
  }
 },
 "nbformat": 4,
 "nbformat_minor": 4
}

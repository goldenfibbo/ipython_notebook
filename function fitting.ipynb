{
 "cells": [
  {
   "cell_type": "markdown",
   "id": "303ca504",
   "metadata": {},
   "source": [
    "# 实验3.1"
   ]
  },
  {
   "cell_type": "code",
   "execution_count": 27,
   "id": "8192d89a",
   "metadata": {},
   "outputs": [],
   "source": [
    "import numpy as np\n",
    "import matplotlib.pyplot as plt\n",
    "plt.rcParams['figure.figsize'] = (10.0, 6.0)"
   ]
  },
  {
   "cell_type": "markdown",
   "id": "1365dde7",
   "metadata": {},
   "source": [
    "**本代码依赖于python3以及其下的matplotlib,numpy**"
   ]
  },
  {
   "cell_type": "code",
   "execution_count": 29,
   "id": "1b2555f0",
   "metadata": {},
   "outputs": [],
   "source": [
    "class lsfit(object):\n",
    "    \"\"\"\n",
    "    least-square fitting\n",
    "    \"\"\"\n",
    "    \n",
    "    def __init__(self, n):\n",
    "        \"\"\"\n",
    "        n is the max polynomial order\n",
    "        \"\"\"\n",
    "        \n",
    "        self.n = n\n",
    "        self.a = np.empty(n + 1)\n",
    "        self.s_err = 0\n",
    "        \n",
    "    def fitdata(self, xarr, yarr):\n",
    "        \"\"\"\n",
    "        (xarr, yarr) contain all the data points\n",
    "        \"\"\"        \n",
    "    \n",
    "        if len(xarr) != len(yarr):\n",
    "            raise(ValueError(\"the length of x and y array need to be the same\"))\n",
    "\n",
    "        length = len(xarr)\n",
    "        \n",
    "        matr = np.zeros((self.n + 1, self.n + 1))\n",
    "        for i in range(length):\n",
    "            matr += self._sum_temp_mat(xarr[i], i)\n",
    "        \n",
    "        arr_y = np.zeros(self.n + 1)\n",
    "        for i in range(length):\n",
    "            arr_y += self._sum_temp_arr(xarr[i], yarr[i], i) \n",
    "        \n",
    "        self.a = np.dot(np.linalg.inv(matr), arr_y)\n",
    "        \n",
    "        for i in range(length):\n",
    "            self.s_err += (yarr[i] - self.fit_func(xarr[i]))**2\n",
    "        \n",
    "        \n",
    "    def _sum_temp_mat(self, x, i):\n",
    "        \"\"\"\n",
    "        the func used in the summation of the matrix leftside\n",
    "        \"\"\"\n",
    "        \n",
    "        mat = np.empty((self.n + 1, self.n + 1))\n",
    "        for ii in range(self.n + 1):\n",
    "            for jj in range(self.n + 1):\n",
    "                mat[ii, jj] = x**(ii + jj)\n",
    "                \n",
    "        return mat\n",
    "    \n",
    "    \n",
    "    def _sum_temp_arr(self, x, y, i):\n",
    "        \"\"\"\n",
    "        the func used in the summation of the array rightside\n",
    "        \"\"\"\n",
    "        \n",
    "        arr = np.empty(self.n + 1)\n",
    "        for ii in range(self.n + 1):\n",
    "            arr[ii] = x**(ii) * y\n",
    "            \n",
    "        return arr\n",
    "    \n",
    "    \n",
    "    def fit_func(self, x):\n",
    "        \"\"\"\n",
    "        the function map obtained from fitting\n",
    "        \"\"\"\n",
    "        s = 0\n",
    "        \n",
    "        for i in range(self.n + 1):\n",
    "            s += self.a[i] * x**i\n",
    "        \n",
    "        return s\n",
    "    \n",
    "    \n",
    "    def plot(self, xmin, xmax):\n",
    "        \"\"\"\n",
    "        the plot func used to show the fitting result\n",
    "        \"\"\"\n",
    "        \n",
    "        x = np.linspace(xmin, xmax, 300)\n",
    "        s = self.fit_func(x)\n",
    "        \n",
    "        plt.plot(x, s, label=str(self.n)+\"-order fitting\")            "
   ]
  },
  {
   "cell_type": "markdown",
   "id": "f4710858",
   "metadata": {},
   "source": [
    "## 下面代入数据进行计算"
   ]
  },
  {
   "cell_type": "code",
   "execution_count": null,
   "id": "3080809d",
   "metadata": {},
   "outputs": [],
   "source": [
    "if __name__ == \"__main__\":\n",
    "\n",
    "    # preset all the parameters, including fitting order, and (x,y) points\n",
    "    order = 3\n",
    "    x = np.arange(-1.0, 2.1, 0.5)\n",
    "    y = np.array([-4.447, -0.452, 0.551, 0.048, -0.447, 0.549, 4.552])\n",
    "\n",
    "    # do the fitting\n",
    "    fit_func = lsfit(order)\n",
    "    fit_func.fitdata(x, y)"
   ]
  },
  {
   "cell_type": "markdown",
   "id": "4b1bcf20",
   "metadata": {},
   "source": [
    "## 拟合曲线的参数$\\{a_k\\}$"
   ]
  },
  {
   "cell_type": "code",
   "execution_count": 33,
   "id": "562785d4",
   "metadata": {},
   "outputs": [
    {
     "name": "stdout",
     "output_type": "stream",
     "text": [
      "[ 5.49119048e-01 -3.96825397e-05 -2.99766667e+00  1.99911111e+00]\n"
     ]
    }
   ],
   "source": [
    "a = fit_func.a\n",
    "print(a)"
   ]
  },
  {
   "cell_type": "markdown",
   "id": "a06c94ad",
   "metadata": {},
   "source": [
    "<font size=4>上面即为从$a_0$依次到$a_3$  \n",
    "即$a_0=0.549119048,\\; a_1=-3.96825397\\times10^{-5},\\; a_2=-2.99766667,\\;  a_3=1.99911111$</font>"
   ]
  },
  {
   "cell_type": "markdown",
   "id": "d569513f",
   "metadata": {},
   "source": [
    "## 平方误差$\\delta^2$"
   ]
  },
  {
   "cell_type": "code",
   "execution_count": 34,
   "id": "cd9bd26b",
   "metadata": {},
   "outputs": [
    {
     "data": {
      "text/plain": [
       "2.1761904761904066e-05"
      ]
     },
     "execution_count": 34,
     "metadata": {},
     "output_type": "execute_result"
    }
   ],
   "source": [
    "fit_func.s_err"
   ]
  },
  {
   "cell_type": "markdown",
   "id": "307a91b2",
   "metadata": {},
   "source": [
    "<font size=4>平方误差$\\delta^2\\approx 2.1762\\times 10^{-5}$</font>"
   ]
  },
  {
   "cell_type": "markdown",
   "id": "3e299817",
   "metadata": {},
   "source": [
    "## 离散数据的拟合函数图形如下："
   ]
  },
  {
   "cell_type": "code",
   "execution_count": 46,
   "id": "f8411947",
   "metadata": {},
   "outputs": [
    {
     "data": {
      "image/png": "[encoded data removed]",
      "text/plain": [
       "<Figure size 720x432 with 1 Axes>"
      ]
     },
     "metadata": {
      "needs_background": "light"
     },
     "output_type": "display_data"
    }
   ],
   "source": [
    "if __name__ == \"__main__\":\n",
    "    \n",
    "    fit_func.plot(-1, 2)\n",
    "    plt.scatter(x, y, marker=\"*\", s=100, label=\"data points\")\n",
    "    plt.xlabel(\"x\")\n",
    "    plt.ylabel(\"y\")\n",
    "    plt.legend()\n",
    "    plt.show()"
   ]
  }
 ],
 "metadata": {
  "kernelspec": {
   "display_name": "Python 3",
   "language": "python",
   "name": "python3"
  },
  "language_info": {
   "codemirror_mode": {
    "name": "ipython",
    "version": 3
   },
   "file_extension": ".py",
   "mimetype": "text/x-python",
   "name": "python",
   "nbconvert_exporter": "python",
   "pygments_lexer": "ipython3",
   "version": "3.9.4"
  }
 },
 "nbformat": 4,
 "nbformat_minor": 5
}

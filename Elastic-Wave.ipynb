{
 "cells": [
  {
   "cell_type": "code",
   "execution_count": 1,
   "metadata": {},
   "outputs": [],
   "source": [
    "import numpy as np\n",
    "from sympy import *"
   ]
  },
  {
   "cell_type": "code",
   "execution_count": 2,
   "metadata": {},
   "outputs": [],
   "source": [
    "xx,xy,xz,yy,zz,yz = symbols('xx,xy,xz,yy,zz,yz')"
   ]
  },
  {
   "cell_type": "code",
   "execution_count": 3,
   "metadata": {},
   "outputs": [],
   "source": [
    "C_11,C_12,C_13,C_21,C_22,C_23,C_31,C_32,C_33,C_44,C_55,C_66 = symbols('C_11,C_12,C_13,C_21,C_22,C_23,C_31,C_32,C_33,C_44,C_55,C_66')"
   ]
  },
  {
   "cell_type": "code",
   "execution_count": 4,
   "metadata": {},
   "outputs": [],
   "source": [
    "C = Matrix([[C_11,C_12,C_13,0,0,0],[C_21,C_22,C_23,0,0,0],[C_31,C_32,C_33,0,0,0],[0,0,0,C_44,0,0],[0,0,0,0,C_55,0],[0,0,0,0,0,C_66]])"
   ]
  },
  {
   "cell_type": "code",
   "execution_count": 5,
   "metadata": {},
   "outputs": [],
   "source": [
    "Target = Matrix([[C_11*xx+C_66*yy+C_55*zz,(C_12+C_66)*xy,(C_13+C_55)*xz],\n",
    "                 [(C_66+C_21)*xy,C_66*xx+C_22*yy+C_44*zz,(C_23+C_44)*yz],\n",
    "                 [(C_55+C_31)*xz,(C_44+C_32)*yz,C_55*xx+C_44*yy+C_33*zz]])"
   ]
  },
  {
   "cell_type": "code",
   "execution_count": 6,
   "metadata": {},
   "outputs": [
    {
     "data": {
      "text/latex": [
       "$\\displaystyle \\left[\\begin{matrix}C_{11} xx + C_{55} zz + C_{66} yy & xy \\left(C_{12} + C_{66}\\right) & xz \\left(C_{13} + C_{55}\\right)\\\\xy \\left(C_{21} + C_{66}\\right) & C_{22} yy + C_{44} zz + C_{66} xx & yz \\left(C_{23} + C_{44}\\right)\\\\xz \\left(C_{31} + C_{55}\\right) & yz \\left(C_{32} + C_{44}\\right) & C_{33} zz + C_{44} yy + C_{55} xx\\end{matrix}\\right]$"
      ],
      "text/plain": [
       "Matrix([\n",
       "[C_11*xx + C_55*zz + C_66*yy,            xy*(C_12 + C_66),            xz*(C_13 + C_55)],\n",
       "[           xy*(C_21 + C_66), C_22*yy + C_44*zz + C_66*xx,            yz*(C_23 + C_44)],\n",
       "[           xz*(C_31 + C_55),            yz*(C_32 + C_44), C_33*zz + C_44*yy + C_55*xx]])"
      ]
     },
     "execution_count": 6,
     "metadata": {},
     "output_type": "execute_result"
    }
   ],
   "source": [
    "Target"
   ]
  },
  {
   "cell_type": "code",
   "execution_count": 7,
   "metadata": {},
   "outputs": [],
   "source": [
    "u,v,w = symbols('u,v,w')\n",
    "u_vec = np.array([u,v,w])"
   ]
  },
  {
   "cell_type": "code",
   "execution_count": 10,
   "metadata": {},
   "outputs": [
    {
     "data": {
      "text/plain": [
       "array([u*(C_11*xx + C_55*zz + C_66*yy) + v*xy*(C_12 + C_66) + w*xz*(C_13 + C_55),\n",
       "       u*xy*(C_21 + C_66) + v*(C_22*yy + C_44*zz + C_66*xx) + w*yz*(C_23 + C_44),\n",
       "       u*xz*(C_31 + C_55) + v*yz*(C_32 + C_44) + w*(C_33*zz + C_44*yy + C_55*xx)],\n",
       "      dtype=object)"
      ]
     },
     "execution_count": 10,
     "metadata": {},
     "output_type": "execute_result"
    }
   ],
   "source": [
    "np.dot(Target,u_vec)"
   ]
  },
  {
   "cell_type": "code",
   "execution_count": null,
   "metadata": {},
   "outputs": [],
   "source": []
  }
 ],
 "metadata": {
  "kernelspec": {
   "display_name": "Python 3",
   "language": "python",
   "name": "python3"
  },
  "language_info": {
   "codemirror_mode": {
    "name": "ipython",
    "version": 3
   },
   "file_extension": ".py",
   "mimetype": "text/x-python",
   "name": "python",
   "nbconvert_exporter": "python",
   "pygments_lexer": "ipython3",
   "version": "3.9.2"
  }
 },
 "nbformat": 4,
 "nbformat_minor": 4
}

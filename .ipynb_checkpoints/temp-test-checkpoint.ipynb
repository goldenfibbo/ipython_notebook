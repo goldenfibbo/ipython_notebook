{
 "cells": [
  {
   "cell_type": "code",
   "execution_count": 1,
   "metadata": {},
   "outputs": [],
   "source": [
    "import numpy as np\n",
    "import re\n",
    "import matplotlib.pyplot as plt\n",
    "import pandas as pd\n",
    "import os"
   ]
  },
  {
   "cell_type": "code",
   "execution_count": 26,
   "metadata": {},
   "outputs": [],
   "source": [
    "a = np.array([[1,2,3],[2,1,2],[2,1,1]],dtype=float)"
   ]
  },
  {
   "cell_type": "code",
   "execution_count": 8,
   "metadata": {},
   "outputs": [
    {
     "ename": "NameError",
     "evalue": "name 'y' is not defined",
     "output_type": "error",
     "traceback": [
      "\u001b[0;31m---------------------------------------------------------------------------\u001b[0m",
      "\u001b[0;31mNameError\u001b[0m                                 Traceback (most recent call last)",
      "\u001b[0;32m<ipython-input-8-526802580cf4>\u001b[0m in \u001b[0;36m<module>\u001b[0;34m\u001b[0m\n\u001b[0;32m----> 1\u001b[0;31m \u001b[0mstr\u001b[0m\u001b[0;34m(\u001b[0m\u001b[0;34m\"%f\"\u001b[0m \u001b[0;34m%\u001b[0m \u001b[0mx\u001b[0m \u001b[0;32mfor\u001b[0m \u001b[0mx\u001b[0m \u001b[0;32min\u001b[0m \u001b[0my\u001b[0m \u001b[0;32mfor\u001b[0m \u001b[0my\u001b[0m \u001b[0;32min\u001b[0m \u001b[0ma\u001b[0m\u001b[0;34m)\u001b[0m\u001b[0;34m\u001b[0m\u001b[0;34m\u001b[0m\u001b[0m\n\u001b[0m",
      "\u001b[0;31mNameError\u001b[0m: name 'y' is not defined"
     ]
    }
   ],
   "source": [
    "str(\"%f\" % x for x in y for y in a)"
   ]
  },
  {
   "cell_type": "code",
   "execution_count": 14,
   "metadata": {},
   "outputs": [
    {
     "data": {
      "text/plain": [
       "False"
      ]
     },
     "execution_count": 14,
     "metadata": {},
     "output_type": "execute_result"
    }
   ],
   "source": [
    "bool(int(\"0\"))"
   ]
  },
  {
   "cell_type": "code",
   "execution_count": 31,
   "metadata": {},
   "outputs": [],
   "source": [
    "a[:,2] = a[:,2]/3"
   ]
  },
  {
   "cell_type": "code",
   "execution_count": 2,
   "metadata": {},
   "outputs": [
    {
     "data": {
      "text/plain": [
       "array([0.16855877, 0.10007941, 0.52769214, 0.51130104, 0.47213706])"
      ]
     },
     "execution_count": 2,
     "metadata": {},
     "output_type": "execute_result"
    }
   ],
   "source": [
    "np.random.rand(5)"
   ]
  },
  {
   "cell_type": "code",
   "execution_count": 4,
   "metadata": {},
   "outputs": [],
   "source": [
    "x,y,z = np.array(re.split(\" \",\"0.1 2.2 3.21\"),dtype=float)"
   ]
  },
  {
   "cell_type": "code",
   "execution_count": 7,
   "metadata": {},
   "outputs": [
    {
     "data": {
      "text/plain": [
       "3.21"
      ]
     },
     "execution_count": 7,
     "metadata": {},
     "output_type": "execute_result"
    }
   ],
   "source": [
    "z"
   ]
  },
  {
   "cell_type": "code",
   "execution_count": null,
   "metadata": {},
   "outputs": [],
   "source": []
  },
  {
   "cell_type": "markdown",
   "metadata": {},
   "source": [
    "# plot the scattering phase space"
   ]
  },
  {
   "cell_type": "code",
   "execution_count": null,
   "metadata": {},
   "outputs": [],
   "source": []
  },
  {
   "cell_type": "code",
   "execution_count": 3,
   "metadata": {},
   "outputs": [],
   "source": [
    "df = pd.read_csv(\"graphene.sps\",sep=\"\\s+\")"
   ]
  },
  {
   "cell_type": "code",
   "execution_count": 4,
   "metadata": {},
   "outputs": [],
   "source": [
    "df = df.set_index(\"k\")"
   ]
  },
  {
   "cell_type": "code",
   "execution_count": 5,
   "metadata": {},
   "outputs": [],
   "source": [
    "a = np.array(df[\"P+\"])\n",
    "b = np.array(df[\"P-\"])"
   ]
  },
  {
   "cell_type": "code",
   "execution_count": 6,
   "metadata": {},
   "outputs": [],
   "source": [
    "df[\"P3\"] = (1/(3*6**3))*(2*a+b)"
   ]
  },
  {
   "cell_type": "code",
   "execution_count": 7,
   "metadata": {},
   "outputs": [],
   "source": [
    "df1 = df[df[\"mode\"]==1]\n",
    "df2 = df[df[\"mode\"]==2]\n",
    "df3 = df[df[\"mode\"]==3]"
   ]
  },
  {
   "cell_type": "code",
   "execution_count": 11,
   "metadata": {},
   "outputs": [
    {
     "data": {
      "text/html": [
       "<div>\n",
       "<style scoped>\n",
       "    .dataframe tbody tr th:only-of-type {\n",
       "        vertical-align: middle;\n",
       "    }\n",
       "\n",
       "    .dataframe tbody tr th {\n",
       "        vertical-align: top;\n",
       "    }\n",
       "\n",
       "    .dataframe thead th {\n",
       "        text-align: right;\n",
       "    }\n",
       "</style>\n",
       "<table border=\"1\" class=\"dataframe\">\n",
       "  <thead>\n",
       "    <tr style=\"text-align: right;\">\n",
       "      <th></th>\n",
       "      <th>mode</th>\n",
       "      <th>omega</th>\n",
       "      <th>P+</th>\n",
       "      <th>P-</th>\n",
       "      <th>P3</th>\n",
       "    </tr>\n",
       "    <tr>\n",
       "      <th>k</th>\n",
       "      <th></th>\n",
       "      <th></th>\n",
       "      <th></th>\n",
       "      <th></th>\n",
       "      <th></th>\n",
       "    </tr>\n",
       "  </thead>\n",
       "  <tbody>\n",
       "    <tr>\n",
       "      <th>1</th>\n",
       "      <td>1</td>\n",
       "      <td>1.097373e-10</td>\n",
       "      <td>4.673697e-16</td>\n",
       "      <td>0.000000</td>\n",
       "      <td>1.442499e-18</td>\n",
       "    </tr>\n",
       "    <tr>\n",
       "      <th>2</th>\n",
       "      <td>1</td>\n",
       "      <td>5.922105e-01</td>\n",
       "      <td>8.484970e-01</td>\n",
       "      <td>0.000000</td>\n",
       "      <td>2.618818e-03</td>\n",
       "    </tr>\n",
       "    <tr>\n",
       "      <th>3</th>\n",
       "      <td>1</td>\n",
       "      <td>1.187386e+00</td>\n",
       "      <td>4.265669e-01</td>\n",
       "      <td>0.000073</td>\n",
       "      <td>1.316678e-03</td>\n",
       "    </tr>\n",
       "    <tr>\n",
       "      <th>4</th>\n",
       "      <td>1</td>\n",
       "      <td>1.788474e+00</td>\n",
       "      <td>2.889011e-01</td>\n",
       "      <td>0.000161</td>\n",
       "      <td>8.919185e-04</td>\n",
       "    </tr>\n",
       "    <tr>\n",
       "      <th>5</th>\n",
       "      <td>1</td>\n",
       "      <td>2.398386e+00</td>\n",
       "      <td>2.185257e-01</td>\n",
       "      <td>0.000283</td>\n",
       "      <td>6.748990e-04</td>\n",
       "    </tr>\n",
       "    <tr>\n",
       "      <th>...</th>\n",
       "      <td>...</td>\n",
       "      <td>...</td>\n",
       "      <td>...</td>\n",
       "      <td>...</td>\n",
       "      <td>...</td>\n",
       "    </tr>\n",
       "    <tr>\n",
       "      <th>7697</th>\n",
       "      <td>1</td>\n",
       "      <td>5.263416e+02</td>\n",
       "      <td>1.304816e-02</td>\n",
       "      <td>0.002873</td>\n",
       "      <td>4.470577e-05</td>\n",
       "    </tr>\n",
       "    <tr>\n",
       "      <th>7698</th>\n",
       "      <td>1</td>\n",
       "      <td>5.255309e+02</td>\n",
       "      <td>1.303710e-02</td>\n",
       "      <td>0.002930</td>\n",
       "      <td>4.475891e-05</td>\n",
       "    </tr>\n",
       "    <tr>\n",
       "      <th>7699</th>\n",
       "      <td>1</td>\n",
       "      <td>5.276881e+02</td>\n",
       "      <td>1.303611e-02</td>\n",
       "      <td>0.002766</td>\n",
       "      <td>4.450344e-05</td>\n",
       "    </tr>\n",
       "    <tr>\n",
       "      <th>7700</th>\n",
       "      <td>1</td>\n",
       "      <td>5.287347e+02</td>\n",
       "      <td>1.305546e-02</td>\n",
       "      <td>0.002688</td>\n",
       "      <td>4.444266e-05</td>\n",
       "    </tr>\n",
       "    <tr>\n",
       "      <th>7701</th>\n",
       "      <td>1</td>\n",
       "      <td>5.302162e+02</td>\n",
       "      <td>1.303346e-02</td>\n",
       "      <td>0.002612</td>\n",
       "      <td>4.425719e-05</td>\n",
       "    </tr>\n",
       "  </tbody>\n",
       "</table>\n",
       "<p>7701 rows × 5 columns</p>\n",
       "</div>"
      ],
      "text/plain": [
       "      mode         omega            P+        P-            P3\n",
       "k                                                             \n",
       "1        1  1.097373e-10  4.673697e-16  0.000000  1.442499e-18\n",
       "2        1  5.922105e-01  8.484970e-01  0.000000  2.618818e-03\n",
       "3        1  1.187386e+00  4.265669e-01  0.000073  1.316678e-03\n",
       "4        1  1.788474e+00  2.889011e-01  0.000161  8.919185e-04\n",
       "5        1  2.398386e+00  2.185257e-01  0.000283  6.748990e-04\n",
       "...    ...           ...           ...       ...           ...\n",
       "7697     1  5.263416e+02  1.304816e-02  0.002873  4.470577e-05\n",
       "7698     1  5.255309e+02  1.303710e-02  0.002930  4.475891e-05\n",
       "7699     1  5.276881e+02  1.303611e-02  0.002766  4.450344e-05\n",
       "7700     1  5.287347e+02  1.305546e-02  0.002688  4.444266e-05\n",
       "7701     1  5.302162e+02  1.303346e-02  0.002612  4.425719e-05\n",
       "\n",
       "[7701 rows x 5 columns]"
      ]
     },
     "execution_count": 11,
     "metadata": {},
     "output_type": "execute_result"
    }
   ],
   "source": [
    "df1"
   ]
  },
  {
   "cell_type": "code",
   "execution_count": 12,
   "metadata": {},
   "outputs": [],
   "source": [
    "omega1 = np.array(df1[\"omega\"])\n",
    "omega2 = np.array(df2[\"omega\"])\n",
    "omega3 = np.array(df3[\"omega\"])\n",
    "p31 = np.array(df1[\"P3\"])\n",
    "p32 = np.array(df2[\"P3\"])\n",
    "p33 = np.array(df3[\"P3\"])\n",
    "omega1 = omega1*3*0.01\n",
    "omega2 = omega2*3*0.01\n",
    "omega3 = omega3*3*0.01"
   ]
  },
  {
   "cell_type": "code",
   "execution_count": 19,
   "metadata": {},
   "outputs": [
    {
     "data": {
      "image/png": "[encoded data removed]",
      "text/plain": [
       "<Figure size 1440x1440 with 3 Axes>"
      ]
     },
     "metadata": {
      "needs_background": "light"
     },
     "output_type": "display_data"
    }
   ],
   "source": [
    "fig = plt.figure(figsize=(20,20))\n",
    "#ax = plt.gca()\n",
    "ax1 = fig.add_subplot(2,2,1)\n",
    "ax2 = fig.add_subplot(2,2,2)\n",
    "ax3 = fig.add_subplot(2,2,3)\n",
    "ax1.scatter(omega1[1:],p31[1:],s=20,c=\"magenta\")\n",
    "ax2.scatter(omega2[1:],p32[1:],s=20,c=\"cyan\")\n",
    "ax3.scatter(omega3[1:],p33[1:],s=20,c=\"blue\")\n",
    "plt.xlabel(\"Freq/THz\")\n",
    "plt.ylabel(\"P_3\")\n",
    "ax1.set_yscale(\"log\")\n",
    "ax2.set_yscale(\"log\")\n",
    "ax3.set_yscale(\"log\")\n",
    "# ax.set_xscale(\"log\")\n",
    "\"\"\"\n",
    "extent1 = ax1.get_tightbbox(fig.canvas.renderer).transformed(fig.dpi_scale_trans.inverted())\n",
    "extent2 = ax2.get_tightbbox(fig.canvas.renderer).transformed(fig.dpi_scale_trans.inverted())\n",
    "extent3 = ax3.get_tightbbox(fig.canvas.renderer).transformed(fig.dpi_scale_trans.inverted())\n",
    "fig.savefig('x_figure.svg', bbox_inches=extent1)\n",
    "fig.savefig('y_figure.svg', bbox_inches=extent2)\n",
    "fig.savefig('z_figure.svg', bbox_inches=extent3)\n",
    "\"\"\"\n",
    "extent1 = ax1.get_window_extent().transformed(fig.dpi_scale_trans.inverted())\n",
    "extent2 = ax2.get_window_extent().transformed(fig.dpi_scale_trans.inverted())\n",
    "extent3 = ax3.get_window_extent().transformed(fig.dpi_scale_trans.inverted())\n",
    "fig.savefig('x_figure.svg', bbox_inches=extent1.expanded(1.1, 1.2))\n",
    "fig.savefig('y_figure.svg', bbox_inches=extent2.expanded(1.1, 1.2))\n",
    "fig.savefig('z_figure.svg', bbox_inches=extent3.expanded(1.1, 1.2))"
   ]
  },
  {
   "cell_type": "markdown",
   "metadata": {},
   "source": [
    "# plot the lifetime wrt freq"
   ]
  },
  {
   "cell_type": "code",
   "execution_count": 142,
   "metadata": {},
   "outputs": [],
   "source": [
    "df = pd.read_csv(\"/home/dongkai/Documents/graphene/alm-8x8/tau300K.dat\",sep=\"\\s+\")"
   ]
  },
  {
   "cell_type": "code",
   "execution_count": 143,
   "metadata": {},
   "outputs": [],
   "source": [
    "df1 = df[[\"branch\",\"Frequency\",\"Lifetime\"]]"
   ]
  },
  {
   "cell_type": "code",
   "execution_count": 150,
   "metadata": {},
   "outputs": [],
   "source": [
    "df1 = df1[df1[\"branch\"] ==1]"
   ]
  },
  {
   "cell_type": "code",
   "execution_count": null,
   "metadata": {},
   "outputs": [],
   "source": []
  },
  {
   "cell_type": "code",
   "execution_count": 151,
   "metadata": {},
   "outputs": [],
   "source": [
    "df1 = df1[[\"Frequency\",\"Lifetime\"]]"
   ]
  },
  {
   "cell_type": "code",
   "execution_count": 94,
   "metadata": {},
   "outputs": [],
   "source": []
  },
  {
   "cell_type": "code",
   "execution_count": 152,
   "metadata": {},
   "outputs": [],
   "source": [
    "freq = np.array(df1[[\"Frequency\"]])\n",
    "lt = np.array(df1[[\"Lifetime\"]])"
   ]
  },
  {
   "cell_type": "code",
   "execution_count": 153,
   "metadata": {},
   "outputs": [],
   "source": [
    "freq = freq*3/100"
   ]
  },
  {
   "cell_type": "code",
   "execution_count": 158,
   "metadata": {},
   "outputs": [
    {
     "data": {
      "text/plain": [
       "Text(0, 0.5, 'lifetime/ps')"
      ]
     },
     "execution_count": 158,
     "metadata": {},
     "output_type": "execute_result"
    },
    {
     "data": {
      "image/png": "[encoded data removed]",
      "text/plain": [
       "<Figure size 432x288 with 1 Axes>"
      ]
     },
     "metadata": {
      "needs_background": "light"
     },
     "output_type": "display_data"
    }
   ],
   "source": [
    "fig = plt.figure()\n",
    "ax = plt.gca()\n",
    "#ax.set_yscale(\"log\")\n",
    "#ax.set_xscale(\"log\")\n",
    "#ax.set_xbound(0,100)\n",
    "plt.scatter(freq[7:],lt[7:],c=\"blue\")\n",
    "plt.xlabel(\"Freq/THz\")\n",
    "plt.ylabel(\"lifetime/ps\")\n"
   ]
  },
  {
   "cell_type": "code",
   "execution_count": 132,
   "metadata": {},
   "outputs": [
    {
     "data": {
      "text/plain": [
       "array([[1.09737e-10],\n",
       "       [1.09737e-10],\n",
       "       [1.09737e-10],\n",
       "       ...,\n",
       "       [1.19536e+03],\n",
       "       [1.19536e+03],\n",
       "       [1.30234e+03]])"
      ]
     },
     "execution_count": 132,
     "metadata": {},
     "output_type": "execute_result"
    }
   ],
   "source": [
    "freq"
   ]
  },
  {
   "cell_type": "code",
   "execution_count": 25,
   "metadata": {},
   "outputs": [],
   "source": [
    "plt.scatter?"
   ]
  },
  {
   "cell_type": "code",
   "execution_count": null,
   "metadata": {},
   "outputs": [],
   "source": []
  },
  {
   "cell_type": "code",
   "execution_count": null,
   "metadata": {},
   "outputs": [],
   "source": []
  },
  {
   "cell_type": "code",
   "execution_count": null,
   "metadata": {},
   "outputs": [],
   "source": []
  },
  {
   "cell_type": "code",
   "execution_count": null,
   "metadata": {},
   "outputs": [],
   "source": []
  },
  {
   "cell_type": "code",
   "execution_count": null,
   "metadata": {},
   "outputs": [],
   "source": []
  },
  {
   "cell_type": "code",
   "execution_count": null,
   "metadata": {},
   "outputs": [],
   "source": []
  },
  {
   "cell_type": "code",
   "execution_count": null,
   "metadata": {},
   "outputs": [],
   "source": []
  },
  {
   "cell_type": "code",
   "execution_count": null,
   "metadata": {},
   "outputs": [],
   "source": []
  },
  {
   "cell_type": "code",
   "execution_count": null,
   "metadata": {},
   "outputs": [],
   "source": []
  }
 ],
 "metadata": {
  "kernelspec": {
   "display_name": "Python 3",
   "language": "python",
   "name": "python3"
  },
  "language_info": {
   "codemirror_mode": {
    "name": "ipython",
    "version": 3
   },
   "file_extension": ".py",
   "mimetype": "text/x-python",
   "name": "python",
   "nbconvert_exporter": "python",
   "pygments_lexer": "ipython3",
   "version": "3.8.6"
  }
 },
 "nbformat": 4,
 "nbformat_minor": 4
}
